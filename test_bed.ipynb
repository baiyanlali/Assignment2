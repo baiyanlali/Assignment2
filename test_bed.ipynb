{
 "cells": [
  {
   "cell_type": "code",
   "execution_count": 3,
   "metadata": {
    "collapsed": false
   },
   "outputs": [
    {
     "name": "stdout",
     "output_type": "stream",
     "text": [
      "[[10 11 12]\n",
      " [13 14 15]]\n",
      "[[0 0 0]\n",
      " [1 1 1]]\n"
     ]
    }
   ],
   "source": [
    "import numpy as np\n",
    "\n",
    "a = np.arange(6).reshape(2,3) + 10\n",
    "arg = np.argsort(a, axis=0)\n",
    "print(a)\n",
    "print(arg)"
   ]
  },
  {
   "cell_type": "code",
   "execution_count": 5,
   "metadata": {
    "collapsed": false
   },
   "outputs": [
    {
     "name": "stdout",
     "output_type": "stream",
     "text": [
      "[ 0.         11.07440825 12.06925686 16.25207796 20.0950837  21.4810505\n",
      " 36.19704858 55.7465877  57.62214973 59.79491601 70.71534653 72.0500468 ]\n",
      "[ 0.         10.07440825 11.07440825 11.07440825 12.06925686 15.25207796\n",
      " 16.25207796 19.0950837  20.0950837  20.4810505  21.4810505  35.19704858\n",
      " 36.19704858 54.7465877  55.7465877  56.62214973 57.62214973 58.79491601\n",
      " 59.79491601 69.71534653 70.71534653 71.0500468  72.0500468  80.        ]\n"
     ]
    }
   ],
   "source": [
    "from EA import myEA\n",
    "import EA\n",
    "import numpy as np\n",
    "\n",
    "active_windows_index = np.arange(12)\n",
    "\n",
    "np.random.shuffle(active_windows_index)\n",
    "\n",
    "start_time = np.random.rand(12) * (EA.TIME_END - EA.TIME_START)\n",
    "start_time.sort()\n",
    "\n",
    "start_time[0] = 0\n",
    "\n",
    "print(start_time)\n",
    "print(myEA.fill_window(start_time))"
   ]
  },
  {
   "cell_type": "code",
   "execution_count": 6,
   "metadata": {},
   "outputs": [
    {
     "name": "stdout",
     "output_type": "stream",
     "text": [
      "[2 3 1 8 4 0 6 7 5 9]\n",
      "5\n"
     ]
    }
   ],
   "source": [
    "b = np.arange(10)\n",
    "np.random.shuffle(b)\n",
    "print(b)\n",
    "print(np.argmin(b))"
   ]
  },
  {
   "cell_type": "code",
   "execution_count": 8,
   "outputs": [
    {
     "name": "stdout",
     "output_type": "stream",
     "text": [
      "[0 1 2 3 4 5 6 7 8 9]\n",
      "0\n"
     ]
    }
   ],
   "source": [
    "import numpy as np\n",
    "b = np.arange(10)\n",
    "import bisect\n",
    "print(b)\n",
    "print(bisect.bisect_left(b, 0))"
   ],
   "metadata": {
    "collapsed": false
   }
  },
  {
   "cell_type": "code",
   "execution_count": null,
   "outputs": [],
   "source": [],
   "metadata": {
    "collapsed": false
   }
  }
 ],
 "metadata": {
  "kernelspec": {
   "display_name": "Python 3",
   "language": "python",
   "name": "python3"
  },
  "language_info": {
   "codemirror_mode": {
    "name": "ipython",
    "version": 3
   },
   "file_extension": ".py",
   "mimetype": "text/x-python",
   "name": "python",
   "nbconvert_exporter": "python",
   "pygments_lexer": "ipython3",
   "version": "3.11.3"
  }
 },
 "nbformat": 4,
 "nbformat_minor": 0
}
