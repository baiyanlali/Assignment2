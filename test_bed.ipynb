{
 "cells": [
  {
   "cell_type": "code",
   "execution_count": 21,
   "metadata": {
    "collapsed": false
   },
   "outputs": [
    {
     "name": "stdout",
     "output_type": "stream",
     "text": [
      "[[10 11 12]\n",
      " [13 14 15]]\n",
      "[[0 0 0]\n",
      " [1 1 1]]\n"
     ]
    }
   ],
   "source": [
    "import numpy as np\n",
    "\n",
    "a = np.arange(6).reshape(2, 3) + 10\n",
    "arg = np.argsort(a, axis=0)\n",
    "print(a)\n",
    "print(arg)"
   ]
  },
  {
   "cell_type": "code",
   "execution_count": 22,
   "metadata": {
    "collapsed": false
   },
   "outputs": [
    {
     "name": "stdout",
     "output_type": "stream",
     "text": [
      "[ 0.          2.31105464  8.78055377 18.90261471 30.22466058 43.10879726\n",
      " 44.84351354 46.20781689 46.73902687 47.6699763  54.06534979 63.0970172 ]\n",
      "[ 0.          1.31095464  2.31105464  7.78045377  8.78055377 17.90251471\n",
      " 18.90261471 29.22456058 30.22466058 42.10869726 43.10879726 43.84341354\n",
      " 44.84351354 45.20771689 46.20781689 46.20781689 46.73902687 46.73902687\n",
      " 47.6699763  53.06524979 54.06534979 62.0969172  63.0970172  80.        ]\n"
     ]
    }
   ],
   "source": [
    "from EA import myEA\n",
    "import EA\n",
    "import numpy as np\n",
    "\n",
    "active_windows_index = np.arange(12)\n",
    "\n",
    "np.random.shuffle(active_windows_index)\n",
    "\n",
    "start_time = np.random.rand(12) * (EA.TIME_END - EA.TIME_START)\n",
    "start_time.sort()\n",
    "\n",
    "start_time[0] = 0\n",
    "\n",
    "print(start_time)\n",
    "print(myEA.fill_window(start_time))"
   ]
  },
  {
   "cell_type": "code",
   "execution_count": 23,
   "metadata": {},
   "outputs": [
    {
     "name": "stdout",
     "output_type": "stream",
     "text": [
      "[8 6 4 7 0 3 2 1 5 9]\n",
      "4\n"
     ]
    }
   ],
   "source": [
    "b = np.arange(10)\n",
    "np.random.shuffle(b)\n",
    "print(b)\n",
    "print(np.argmin(b))"
   ]
  },
  {
   "cell_type": "code",
   "execution_count": 24,
   "outputs": [
    {
     "name": "stdout",
     "output_type": "stream",
     "text": [
      "[0 1 2 3 4 5 6 7 8 9]\n",
      "0\n"
     ]
    }
   ],
   "source": [
    "import numpy as np\n",
    "\n",
    "b = np.arange(10)\n",
    "import bisect\n",
    "\n",
    "print(b)\n",
    "print(bisect.bisect_left(b, 0))"
   ],
   "metadata": {
    "collapsed": false
   }
  },
  {
   "cell_type": "code",
   "execution_count": 25,
   "outputs": [
    {
     "name": "stdout",
     "output_type": "stream",
     "text": [
      "[0 1 2 3 4 5 6 7 8 9]\n",
      "[2 3 4 5 6 7 8]\n",
      "[9 8 7 6 5 4 3]\n",
      "[0 1 2 5 4 3 6 7 8 9]\n"
     ]
    }
   ],
   "source": [
    "import numpy as np\n",
    "\n",
    "b = np.arange(10)\n",
    "\n",
    "print(b)\n",
    "print(b[2:9])\n",
    "print(b[9:2:-1])\n",
    "\n",
    "b[3: 6] = b[5:2:-1]\n",
    "\n",
    "print(b)"
   ],
   "metadata": {
    "collapsed": false
   }
  },
  {
   "cell_type": "code",
   "execution_count": 26,
   "outputs": [
    {
     "name": "stdout",
     "output_type": "stream",
     "text": [
      "[ 1 20  4  2  1  4  8  7 10]\n",
      "['a', 'b', 'c', 'd', 'e', 'f', 'g', 'h', 'i', 'j']\n",
      "(1, 1, 2, 4, 4, 7, 8, 10, 20)\n",
      "('a', 'e', 'd', 'c', 'f', 'h', 'g', 'i', 'b')\n"
     ]
    }
   ],
   "source": [
    "import numpy as np\n",
    "\n",
    "b = [\"a\",\n",
    "     \"b\",\n",
    "     \"c\",\n",
    "     \"d\",\n",
    "     \"e\",\n",
    "     \"f\",\n",
    "     \"g\",\n",
    "     \"h\",\n",
    "     \"i\",\n",
    "     \"j\", ]\n",
    "\n",
    "\n",
    "class feiji:\n",
    "\n",
    "    def __le__(self, other):\n",
    "        return 1\n",
    "\n",
    "    pass\n",
    "\n",
    "\n",
    "feijis = [\n",
    "    feiji(),\n",
    "    feiji(),\n",
    "    feiji(),\n",
    "    feiji(),\n",
    "    feiji(),\n",
    "    feiji(),\n",
    "    feiji(),\n",
    "    feiji(),\n",
    "    feiji(),\n",
    "    feiji(),\n",
    "]\n",
    "\n",
    "fitness = np.array([1, 20, 4, 2, 1, 4, 8, 7, 10])\n",
    "\n",
    "print(fitness)\n",
    "print(b)\n",
    "\n",
    "ret1, ret2 = zip(*sorted(zip(fitness, b), key=lambda a: a[0]))\n",
    "\n",
    "print(ret1)\n",
    "print(ret2)\n"
   ],
   "metadata": {
    "collapsed": false,
    "ExecuteTime": {
     "start_time": "2023-04-12T15:53:25.532602Z",
     "end_time": "2023-04-12T15:53:25.535545Z"
    }
   }
  },
  {
   "cell_type": "code",
   "execution_count": 26,
   "outputs": [],
   "source": [],
   "metadata": {
    "collapsed": false
   }
  },
  {
   "cell_type": "code",
   "execution_count": 40,
   "outputs": [
    {
     "name": "stdout",
     "output_type": "stream",
     "text": [
      "[[ -1.  -2.]\n",
      " [ -2.  -4.]\n",
      " [ -3.  -6.]\n",
      " [ -4.  -8.]\n",
      " [ -5. -10.]\n",
      " [ -6. -12.]\n",
      " [ -7. -14.]\n",
      " [ -8. -16.]\n",
      " [ -9. -18.]\n",
      " [-10. -20.]\n",
      " [-11. -22.]\n",
      " [-12. -24.]]\n",
      "0\n",
      "1\n",
      "2\n",
      "3\n",
      "4\n",
      "5\n",
      "6\n",
      "7\n",
      "8\n",
      "9\n",
      "10\n",
      "11\n",
      "-12.0 -24.0\n",
      "-11.0 -22.0\n",
      "-10.0 -20.0\n",
      "-9.0 -18.0\n",
      "-8.0 -16.0\n",
      "-7.0 -14.0\n",
      "-6.0 -12.0\n",
      "-5.0 -10.0\n",
      "-4.0 -8.0\n",
      "-3.0 -6.0\n",
      "-2.0 -4.0\n",
      "-1.0 -2.0\n"
     ]
    }
   ],
   "source": [
    "import numpy as np\n",
    "\n",
    "station_time: np.ndarray[int, float] = -1 * np.ones((12, 2))\n",
    "\n",
    "for i in range(12):\n",
    "    for j in range(2):\n",
    "        station_time[i, j] = - (i + 1) * (j + 1)\n",
    "\n",
    "print(station_time)\n",
    "result = sorted(station_time, key=lambda a: a[0])\n",
    "\n",
    "for i in range(len(result)):\n",
    "    print(i)\n",
    "\n",
    "for i, j in result:\n",
    "    print(i, j)\n"
   ],
   "metadata": {
    "collapsed": false
   }
  },
  {
   "cell_type": "code",
   "execution_count": null,
   "outputs": [],
   "source": [],
   "metadata": {
    "collapsed": false,
    "pycharm": {
     "is_executing": true
    }
   }
  },
  {
   "cell_type": "code",
   "execution_count": 34,
   "outputs": [],
   "source": [],
   "metadata": {
    "collapsed": false
   }
  }
 ],
 "metadata": {
  "kernelspec": {
   "display_name": "Python 3",
   "language": "python",
   "name": "python3"
  },
  "language_info": {
   "codemirror_mode": {
    "name": "ipython",
    "version": 3
   },
   "file_extension": ".py",
   "mimetype": "text/x-python",
   "name": "python",
   "nbconvert_exporter": "python",
   "pygments_lexer": "ipython3",
   "version": "3.11.3"
  }
 },
 "nbformat": 4,
 "nbformat_minor": 0
}
